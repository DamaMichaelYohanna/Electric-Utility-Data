{
 "cells": [
  {
   "cell_type": "markdown",
   "id": "difficult-algorithm",
   "metadata": {},
   "source": [
    "## Import the necessary libraries"
   ]
  },
  {
   "cell_type": "code",
   "execution_count": 2,
   "id": "alive-peace",
   "metadata": {},
   "outputs": [],
   "source": [
    "import pandas as pd #pandas for data analysis\n",
    "import matplotlib.pyplot as plt #\n",
    "%matplotlib inline"
   ]
  },
  {
   "cell_type": "markdown",
   "id": "perceived-phenomenon",
   "metadata": {},
   "source": [
    "## load csv from disk or from internet using the csv link"
   ]
  },
  {
   "cell_type": "code",
   "execution_count": 3,
   "id": "finite-utilization",
   "metadata": {},
   "outputs": [],
   "source": [
    "#df = pd.read_csv('https://raw.githubusercontent.com/WalePhenomenon/climate_change/master/fuel_ferc1.csv')\n",
    "# or load it from the dick\n",
    "df = pd.read_csv('climate.csv')"
   ]
  },
  {
   "cell_type": "markdown",
   "id": "popular-needle",
   "metadata": {},
   "source": [
    "## Show the first five values in the data frame"
   ]
  },
  {
   "cell_type": "code",
   "execution_count": 4,
   "id": "seven-capitol",
   "metadata": {},
   "outputs": [
    {
     "data": {
      "text/html": [
       "<div>\n",
       "<style scoped>\n",
       "    .dataframe tbody tr th:only-of-type {\n",
       "        vertical-align: middle;\n",
       "    }\n",
       "\n",
       "    .dataframe tbody tr th {\n",
       "        vertical-align: top;\n",
       "    }\n",
       "\n",
       "    .dataframe thead th {\n",
       "        text-align: right;\n",
       "    }\n",
       "</style>\n",
       "<table border=\"1\" class=\"dataframe\">\n",
       "  <thead>\n",
       "    <tr style=\"text-align: right;\">\n",
       "      <th></th>\n",
       "      <th>Unnamed: 0</th>\n",
       "      <th>record_id</th>\n",
       "      <th>utility_id_ferc1</th>\n",
       "      <th>report_year</th>\n",
       "      <th>plant_name_ferc1</th>\n",
       "      <th>fuel_type_code_pudl</th>\n",
       "      <th>fuel_unit</th>\n",
       "      <th>fuel_qty_burned</th>\n",
       "      <th>fuel_mmbtu_per_unit</th>\n",
       "      <th>fuel_cost_per_unit_burned</th>\n",
       "      <th>fuel_cost_per_unit_delivered</th>\n",
       "      <th>fuel_cost_per_mmbtu</th>\n",
       "    </tr>\n",
       "  </thead>\n",
       "  <tbody>\n",
       "    <tr>\n",
       "      <th>0</th>\n",
       "      <td>0</td>\n",
       "      <td>f1_fuel_1994_12_1_0_7</td>\n",
       "      <td>1</td>\n",
       "      <td>1994</td>\n",
       "      <td>rockport</td>\n",
       "      <td>coal</td>\n",
       "      <td>ton</td>\n",
       "      <td>5377489.0</td>\n",
       "      <td>16.590</td>\n",
       "      <td>18.59</td>\n",
       "      <td>18.53</td>\n",
       "      <td>1.121</td>\n",
       "    </tr>\n",
       "    <tr>\n",
       "      <th>1</th>\n",
       "      <td>1</td>\n",
       "      <td>f1_fuel_1994_12_1_0_10</td>\n",
       "      <td>1</td>\n",
       "      <td>1994</td>\n",
       "      <td>rockport total plant</td>\n",
       "      <td>coal</td>\n",
       "      <td>ton</td>\n",
       "      <td>10486945.0</td>\n",
       "      <td>16.592</td>\n",
       "      <td>18.58</td>\n",
       "      <td>18.53</td>\n",
       "      <td>1.120</td>\n",
       "    </tr>\n",
       "    <tr>\n",
       "      <th>2</th>\n",
       "      <td>2</td>\n",
       "      <td>f1_fuel_1994_12_2_0_1</td>\n",
       "      <td>2</td>\n",
       "      <td>1994</td>\n",
       "      <td>gorgas</td>\n",
       "      <td>coal</td>\n",
       "      <td>ton</td>\n",
       "      <td>2978683.0</td>\n",
       "      <td>24.130</td>\n",
       "      <td>39.72</td>\n",
       "      <td>38.12</td>\n",
       "      <td>1.650</td>\n",
       "    </tr>\n",
       "    <tr>\n",
       "      <th>3</th>\n",
       "      <td>3</td>\n",
       "      <td>f1_fuel_1994_12_2_0_7</td>\n",
       "      <td>2</td>\n",
       "      <td>1994</td>\n",
       "      <td>barry</td>\n",
       "      <td>coal</td>\n",
       "      <td>ton</td>\n",
       "      <td>3739484.0</td>\n",
       "      <td>23.950</td>\n",
       "      <td>47.21</td>\n",
       "      <td>45.99</td>\n",
       "      <td>1.970</td>\n",
       "    </tr>\n",
       "    <tr>\n",
       "      <th>4</th>\n",
       "      <td>4</td>\n",
       "      <td>f1_fuel_1994_12_2_0_10</td>\n",
       "      <td>2</td>\n",
       "      <td>1994</td>\n",
       "      <td>chickasaw</td>\n",
       "      <td>gas</td>\n",
       "      <td>mcf</td>\n",
       "      <td>40533.0</td>\n",
       "      <td>1.000</td>\n",
       "      <td>2.77</td>\n",
       "      <td>2.77</td>\n",
       "      <td>2.570</td>\n",
       "    </tr>\n",
       "  </tbody>\n",
       "</table>\n",
       "</div>"
      ],
      "text/plain": [
       "   Unnamed: 0               record_id  utility_id_ferc1  report_year  \\\n",
       "0           0   f1_fuel_1994_12_1_0_7                 1         1994   \n",
       "1           1  f1_fuel_1994_12_1_0_10                 1         1994   \n",
       "2           2   f1_fuel_1994_12_2_0_1                 2         1994   \n",
       "3           3   f1_fuel_1994_12_2_0_7                 2         1994   \n",
       "4           4  f1_fuel_1994_12_2_0_10                 2         1994   \n",
       "\n",
       "       plant_name_ferc1 fuel_type_code_pudl fuel_unit  fuel_qty_burned  \\\n",
       "0              rockport                coal       ton        5377489.0   \n",
       "1  rockport total plant                coal       ton       10486945.0   \n",
       "2                gorgas                coal       ton        2978683.0   \n",
       "3                 barry                coal       ton        3739484.0   \n",
       "4             chickasaw                 gas       mcf          40533.0   \n",
       "\n",
       "   fuel_mmbtu_per_unit  fuel_cost_per_unit_burned  \\\n",
       "0               16.590                      18.59   \n",
       "1               16.592                      18.58   \n",
       "2               24.130                      39.72   \n",
       "3               23.950                      47.21   \n",
       "4                1.000                       2.77   \n",
       "\n",
       "   fuel_cost_per_unit_delivered  fuel_cost_per_mmbtu  \n",
       "0                         18.53                1.121  \n",
       "1                         18.53                1.120  \n",
       "2                         38.12                1.650  \n",
       "3                         45.99                1.970  \n",
       "4                          2.77                2.570  "
      ]
     },
     "execution_count": 4,
     "metadata": {},
     "output_type": "execute_result"
    }
   ],
   "source": [
    "df.head()"
   ]
  },
  {
   "cell_type": "markdown",
   "id": "brave-processor",
   "metadata": {},
   "source": [
    "## Show the various datatypes in the dataframe"
   ]
  },
  {
   "cell_type": "code",
   "execution_count": 5,
   "id": "returning-injection",
   "metadata": {},
   "outputs": [
    {
     "data": {
      "text/plain": [
       "Unnamed: 0                        int64\n",
       "record_id                        object\n",
       "utility_id_ferc1                  int64\n",
       "report_year                       int64\n",
       "plant_name_ferc1                 object\n",
       "fuel_type_code_pudl              object\n",
       "fuel_unit                        object\n",
       "fuel_qty_burned                 float64\n",
       "fuel_mmbtu_per_unit             float64\n",
       "fuel_cost_per_unit_burned       float64\n",
       "fuel_cost_per_unit_delivered    float64\n",
       "fuel_cost_per_mmbtu             float64\n",
       "dtype: object"
      ]
     },
     "execution_count": 5,
     "metadata": {},
     "output_type": "execute_result"
    }
   ],
   "source": [
    "df.dtypes"
   ]
  },
  {
   "cell_type": "markdown",
   "id": "packed-asthma",
   "metadata": {},
   "source": [
    "## Check null values in our dataset"
   ]
  },
  {
   "cell_type": "code",
   "execution_count": 6,
   "id": "passive-cyprus",
   "metadata": {},
   "outputs": [
    {
     "data": {
      "text/plain": [
       "Unnamed: 0                        0\n",
       "record_id                         0\n",
       "utility_id_ferc1                  0\n",
       "report_year                       0\n",
       "plant_name_ferc1                  0\n",
       "fuel_type_code_pudl               0\n",
       "fuel_unit                       180\n",
       "fuel_qty_burned                   0\n",
       "fuel_mmbtu_per_unit               0\n",
       "fuel_cost_per_unit_burned         0\n",
       "fuel_cost_per_unit_delivered      0\n",
       "fuel_cost_per_mmbtu               0\n",
       "dtype: int64"
      ]
     },
     "execution_count": 6,
     "metadata": {},
     "output_type": "execute_result"
    }
   ],
   "source": [
    "df.isna().sum()"
   ]
  },
  {
   "cell_type": "markdown",
   "id": "simple-counter",
   "metadata": {},
   "source": [
    "- from the above output, we have 180 null values in fuel unit\n",
    "- We can do well to check the overall shape of the dataframe to help us decide what to do"
   ]
  },
  {
   "cell_type": "code",
   "execution_count": 7,
   "id": "civil-brunei",
   "metadata": {},
   "outputs": [
    {
     "data": {
      "text/plain": [
       "(29523, 12)"
      ]
     },
     "execution_count": 7,
     "metadata": {},
     "output_type": "execute_result"
    }
   ],
   "source": [
    "df.shape"
   ]
  },
  {
   "cell_type": "markdown",
   "id": "narrow-ideal",
   "metadata": {},
   "source": [
    "### let calculate the percent of null values to the total values"
   ]
  },
  {
   "cell_type": "code",
   "execution_count": 8,
   "id": "spread-vaccine",
   "metadata": {},
   "outputs": [
    {
     "data": {
      "text/plain": [
       "0.609694136774718"
      ]
     },
     "execution_count": 8,
     "metadata": {},
     "output_type": "execute_result"
    }
   ],
   "source": [
    "180 / 29523 * 100"
   ]
  },
  {
   "cell_type": "markdown",
   "id": "gorgeous-runner",
   "metadata": {},
   "source": [
    "- from the shape of the dataframe, we have 29523 rows of which 180 is not significant to care about. Hence we are going to drop any row with null values."
   ]
  },
  {
   "cell_type": "code",
   "execution_count": 9,
   "id": "greenhouse-canal",
   "metadata": {},
   "outputs": [],
   "source": [
    "df = df.dropna(how='any')"
   ]
  },
  {
   "cell_type": "code",
   "execution_count": 10,
   "id": "educated-vermont",
   "metadata": {},
   "outputs": [
    {
     "data": {
      "text/plain": [
       "Unnamed: 0                      0\n",
       "record_id                       0\n",
       "utility_id_ferc1                0\n",
       "report_year                     0\n",
       "plant_name_ferc1                0\n",
       "fuel_type_code_pudl             0\n",
       "fuel_unit                       0\n",
       "fuel_qty_burned                 0\n",
       "fuel_mmbtu_per_unit             0\n",
       "fuel_cost_per_unit_burned       0\n",
       "fuel_cost_per_unit_delivered    0\n",
       "fuel_cost_per_mmbtu             0\n",
       "dtype: int64"
      ]
     },
     "execution_count": 10,
     "metadata": {},
     "output_type": "execute_result"
    }
   ],
   "source": [
    "df.isna().sum()"
   ]
  },
  {
   "cell_type": "markdown",
   "id": "honest-empty",
   "metadata": {},
   "source": [
    "- Now we have all null values eliminated.\n"
   ]
  },
  {
   "cell_type": "markdown",
   "id": "minor-calcium",
   "metadata": {},
   "source": [
    "## Let see a summary of our data where possible"
   ]
  },
  {
   "cell_type": "code",
   "execution_count": 11,
   "id": "portable-louisiana",
   "metadata": {},
   "outputs": [
    {
     "data": {
      "text/html": [
       "<div>\n",
       "<style scoped>\n",
       "    .dataframe tbody tr th:only-of-type {\n",
       "        vertical-align: middle;\n",
       "    }\n",
       "\n",
       "    .dataframe tbody tr th {\n",
       "        vertical-align: top;\n",
       "    }\n",
       "\n",
       "    .dataframe thead th {\n",
       "        text-align: right;\n",
       "    }\n",
       "</style>\n",
       "<table border=\"1\" class=\"dataframe\">\n",
       "  <thead>\n",
       "    <tr style=\"text-align: right;\">\n",
       "      <th></th>\n",
       "      <th>Unnamed: 0</th>\n",
       "      <th>utility_id_ferc1</th>\n",
       "      <th>report_year</th>\n",
       "      <th>fuel_qty_burned</th>\n",
       "      <th>fuel_mmbtu_per_unit</th>\n",
       "      <th>fuel_cost_per_unit_burned</th>\n",
       "      <th>fuel_cost_per_unit_delivered</th>\n",
       "      <th>fuel_cost_per_mmbtu</th>\n",
       "    </tr>\n",
       "  </thead>\n",
       "  <tbody>\n",
       "    <tr>\n",
       "      <th>count</th>\n",
       "      <td>29343.000000</td>\n",
       "      <td>29343.000000</td>\n",
       "      <td>29343.000000</td>\n",
       "      <td>2.934300e+04</td>\n",
       "      <td>29343.000000</td>\n",
       "      <td>29343.000000</td>\n",
       "      <td>2.934300e+04</td>\n",
       "      <td>29343.000000</td>\n",
       "    </tr>\n",
       "    <tr>\n",
       "      <th>mean</th>\n",
       "      <td>14776.258563</td>\n",
       "      <td>118.507037</td>\n",
       "      <td>2005.819105</td>\n",
       "      <td>2.609171e+06</td>\n",
       "      <td>8.477481</td>\n",
       "      <td>209.756592</td>\n",
       "      <td>9.230343e+02</td>\n",
       "      <td>18.543975</td>\n",
       "    </tr>\n",
       "    <tr>\n",
       "      <th>std</th>\n",
       "      <td>8516.582808</td>\n",
       "      <td>74.241226</td>\n",
       "      <td>7.019855</td>\n",
       "      <td>8.798699e+06</td>\n",
       "      <td>10.537478</td>\n",
       "      <td>2863.194789</td>\n",
       "      <td>6.898652e+04</td>\n",
       "      <td>2097.367750</td>\n",
       "    </tr>\n",
       "    <tr>\n",
       "      <th>min</th>\n",
       "      <td>0.000000</td>\n",
       "      <td>1.000000</td>\n",
       "      <td>1994.000000</td>\n",
       "      <td>1.000000e+00</td>\n",
       "      <td>0.000001</td>\n",
       "      <td>-276.080000</td>\n",
       "      <td>-8.749370e+02</td>\n",
       "      <td>-41.501000</td>\n",
       "    </tr>\n",
       "    <tr>\n",
       "      <th>25%</th>\n",
       "      <td>7402.500000</td>\n",
       "      <td>55.000000</td>\n",
       "      <td>2000.000000</td>\n",
       "      <td>1.375050e+04</td>\n",
       "      <td>1.024000</td>\n",
       "      <td>5.230000</td>\n",
       "      <td>3.793000e+00</td>\n",
       "      <td>1.950000</td>\n",
       "    </tr>\n",
       "    <tr>\n",
       "      <th>50%</th>\n",
       "      <td>14785.000000</td>\n",
       "      <td>122.000000</td>\n",
       "      <td>2006.000000</td>\n",
       "      <td>2.524640e+05</td>\n",
       "      <td>5.763072</td>\n",
       "      <td>26.039000</td>\n",
       "      <td>1.749000e+01</td>\n",
       "      <td>4.140000</td>\n",
       "    </tr>\n",
       "    <tr>\n",
       "      <th>75%</th>\n",
       "      <td>22149.500000</td>\n",
       "      <td>176.000000</td>\n",
       "      <td>2012.000000</td>\n",
       "      <td>1.424218e+06</td>\n",
       "      <td>17.000000</td>\n",
       "      <td>47.172000</td>\n",
       "      <td>4.220850e+01</td>\n",
       "      <td>7.752000</td>\n",
       "    </tr>\n",
       "    <tr>\n",
       "      <th>max</th>\n",
       "      <td>29522.000000</td>\n",
       "      <td>514.000000</td>\n",
       "      <td>2018.000000</td>\n",
       "      <td>5.558942e+08</td>\n",
       "      <td>341.260000</td>\n",
       "      <td>139358.000000</td>\n",
       "      <td>7.964521e+06</td>\n",
       "      <td>359278.000000</td>\n",
       "    </tr>\n",
       "  </tbody>\n",
       "</table>\n",
       "</div>"
      ],
      "text/plain": [
       "         Unnamed: 0  utility_id_ferc1   report_year  fuel_qty_burned  \\\n",
       "count  29343.000000      29343.000000  29343.000000     2.934300e+04   \n",
       "mean   14776.258563        118.507037   2005.819105     2.609171e+06   \n",
       "std     8516.582808         74.241226      7.019855     8.798699e+06   \n",
       "min        0.000000          1.000000   1994.000000     1.000000e+00   \n",
       "25%     7402.500000         55.000000   2000.000000     1.375050e+04   \n",
       "50%    14785.000000        122.000000   2006.000000     2.524640e+05   \n",
       "75%    22149.500000        176.000000   2012.000000     1.424218e+06   \n",
       "max    29522.000000        514.000000   2018.000000     5.558942e+08   \n",
       "\n",
       "       fuel_mmbtu_per_unit  fuel_cost_per_unit_burned  \\\n",
       "count         29343.000000               29343.000000   \n",
       "mean              8.477481                 209.756592   \n",
       "std              10.537478                2863.194789   \n",
       "min               0.000001                -276.080000   \n",
       "25%               1.024000                   5.230000   \n",
       "50%               5.763072                  26.039000   \n",
       "75%              17.000000                  47.172000   \n",
       "max             341.260000              139358.000000   \n",
       "\n",
       "       fuel_cost_per_unit_delivered  fuel_cost_per_mmbtu  \n",
       "count                  2.934300e+04         29343.000000  \n",
       "mean                   9.230343e+02            18.543975  \n",
       "std                    6.898652e+04          2097.367750  \n",
       "min                   -8.749370e+02           -41.501000  \n",
       "25%                    3.793000e+00             1.950000  \n",
       "50%                    1.749000e+01             4.140000  \n",
       "75%                    4.220850e+01             7.752000  \n",
       "max                    7.964521e+06        359278.000000  "
      ]
     },
     "execution_count": 11,
     "metadata": {},
     "output_type": "execute_result"
    }
   ],
   "source": [
    "df.describe()"
   ]
  },
  {
   "cell_type": "markdown",
   "id": "biological-referral",
   "metadata": {},
   "source": [
    "## From our Cleaned data, we can now start exploring\n",
    " #### For example: \n",
    " - What year has the highest fuel quality burned\n",
    " - Which type of gas was used the most\n",
    " - Which plant consumes more gas"
   ]
  },
  {
   "cell_type": "code",
   "execution_count": 12,
   "id": "surrounded-exercise",
   "metadata": {},
   "outputs": [
    {
     "data": {
      "text/plain": [
       "<AxesSubplot:xlabel='report_year'>"
      ]
     },
     "execution_count": 12,
     "metadata": {},
     "output_type": "execute_result"
    },
    {
     "data": {
      "image/png": "[encoded data removed]",
      "text/plain": [
       "<Figure size 432x288 with 1 Axes>"
      ]
     },
     "metadata": {
      "needs_background": "light"
     },
     "output_type": "display_data"
    }
   ],
   "source": [
    "df.groupby('report_year').count()['fuel_qty_burned'].plot()"
   ]
  },
  {
   "cell_type": "markdown",
   "id": "purple-national",
   "metadata": {},
   "source": [
    "- From the Graph, we observe that the quantity of fuel burnt was at it peak in 1999 - 2002\n",
    "- While an unstable quantity burn was record from 2003 - 2012. But the interesting thing here is that from 2013 to 2018 a significant drop in the quantity of fuel burnt was experience.\n",
    "- That's a huge success in managing carbon emission from burnt gas and more."
   ]
  },
  {
   "cell_type": "code",
   "execution_count": 13,
   "id": "decent-relation",
   "metadata": {},
   "outputs": [
    {
     "data": {
      "text/plain": [
       "<AxesSubplot:xlabel='fuel_type_code_pudl'>"
      ]
     },
     "execution_count": 13,
     "metadata": {},
     "output_type": "execute_result"
    },
    {
     "data": {
      "image/png": "[encoded data removed]",
      "text/plain": [
       "<Figure size 432x288 with 1 Axes>"
      ]
     },
     "metadata": {
      "needs_background": "light"
     },
     "output_type": "display_data"
    }
   ],
   "source": [
    "df.groupby('fuel_type_code_pudl').count()['fuel_qty_burned'].plot(kind='bar')"
   ]
  },
  {
   "cell_type": "markdown",
   "id": "essential-disabled",
   "metadata": {},
   "source": [
    "- From our bar plot, gas is used the most, followed by coal, then oil, nuclear, waste and other\n",
    "######  Our graph is actually bias for the following reasons \n",
    "- We assumed that all the fuel units are the same which is not true. \n",
    "- Secondly we only count occurances of the categorical data and assume the one most mention is the one most used. that is not true as well\n",
    "##### But those errors can be handle  by the following means \n",
    "- convert the various units into one single suitable unit\n",
    "- Instead of counting, we take a summation of the unit value for all the fuels  before ploting the graph. "
   ]
  },
  {
   "cell_type": "markdown",
   "id": "present-wholesale",
   "metadata": {},
   "source": [
    "### Which year has the highest average fuel cost per unit delivered"
   ]
  },
  {
   "cell_type": "code",
   "execution_count": 14,
   "id": "union-ferry",
   "metadata": {},
   "outputs": [
    {
     "data": {
      "image/png": "[encoded data removed]",
      "text/plain": [
       "<Figure size 432x288 with 1 Axes>"
      ]
     },
     "metadata": {
      "needs_background": "light"
     },
     "output_type": "display_data"
    }
   ],
   "source": [
    "df.groupby('report_year').mean()['fuel_cost_per_unit_delivered'].plot(title='Fuel cose per unit delivered', xlabel='year', ylabel='amount')\n",
    "plt.show()"
   ]
  },
  {
   "cell_type": "code",
   "execution_count": 31,
   "id": "maritime-spider",
   "metadata": {},
   "outputs": [
    {
     "data": {
      "text/plain": [
       "11170.820632447296"
      ]
     },
     "execution_count": 31,
     "metadata": {},
     "output_type": "execute_result"
    }
   ],
   "source": [
    "df.groupby('report_year').mean()['fuel_cost_per_unit_delivered'].max()"
   ]
  },
  {
   "cell_type": "markdown",
   "id": "a7340998",
   "metadata": {},
   "source": [
    "- The year with Maximum average fuel cost per unit delivered is 1997"
   ]
  },
  {
   "cell_type": "code",
   "execution_count": 15,
   "id": "legendary-insurance",
   "metadata": {},
   "outputs": [
    {
     "data": {
      "text/plain": [
       "fuel_type_code_pudl\n",
       "coal         67.603187\n",
       "gas          13.707197\n",
       "nuclear    5047.223037\n",
       "oil         169.045434\n",
       "other        20.444221\n",
       "waste        19.647350\n",
       "Name: fuel_cost_per_unit_burned, dtype: float64"
      ]
     },
     "execution_count": 15,
     "metadata": {},
     "output_type": "execute_result"
    }
   ],
   "source": [
    "df.groupby('fuel_type_code_pudl').mean()['fuel_cost_per_unit_burned']"
   ]
  },
  {
   "cell_type": "code",
   "execution_count": 16,
   "id": "dental-integrity",
   "metadata": {},
   "outputs": [
    {
     "data": {
      "text/html": [
       "<div>\n",
       "<style scoped>\n",
       "    .dataframe tbody tr th:only-of-type {\n",
       "        vertical-align: middle;\n",
       "    }\n",
       "\n",
       "    .dataframe tbody tr th {\n",
       "        vertical-align: top;\n",
       "    }\n",
       "\n",
       "    .dataframe thead th {\n",
       "        text-align: right;\n",
       "    }\n",
       "</style>\n",
       "<table border=\"1\" class=\"dataframe\">\n",
       "  <thead>\n",
       "    <tr style=\"text-align: right;\">\n",
       "      <th></th>\n",
       "      <th>Unnamed: 0</th>\n",
       "      <th>record_id</th>\n",
       "      <th>utility_id_ferc1</th>\n",
       "      <th>report_year</th>\n",
       "      <th>plant_name_ferc1</th>\n",
       "      <th>fuel_type_code_pudl</th>\n",
       "      <th>fuel_unit</th>\n",
       "      <th>fuel_qty_burned</th>\n",
       "      <th>fuel_mmbtu_per_unit</th>\n",
       "      <th>fuel_cost_per_unit_burned</th>\n",
       "      <th>fuel_cost_per_unit_delivered</th>\n",
       "      <th>fuel_cost_per_mmbtu</th>\n",
       "    </tr>\n",
       "  </thead>\n",
       "  <tbody>\n",
       "    <tr>\n",
       "      <th>0</th>\n",
       "      <td>0</td>\n",
       "      <td>f1_fuel_1994_12_1_0_7</td>\n",
       "      <td>1</td>\n",
       "      <td>1994</td>\n",
       "      <td>rockport</td>\n",
       "      <td>coal</td>\n",
       "      <td>ton</td>\n",
       "      <td>5377489.0</td>\n",
       "      <td>16.590</td>\n",
       "      <td>18.59</td>\n",
       "      <td>18.53</td>\n",
       "      <td>1.121</td>\n",
       "    </tr>\n",
       "    <tr>\n",
       "      <th>1</th>\n",
       "      <td>1</td>\n",
       "      <td>f1_fuel_1994_12_1_0_10</td>\n",
       "      <td>1</td>\n",
       "      <td>1994</td>\n",
       "      <td>rockport total plant</td>\n",
       "      <td>coal</td>\n",
       "      <td>ton</td>\n",
       "      <td>10486945.0</td>\n",
       "      <td>16.592</td>\n",
       "      <td>18.58</td>\n",
       "      <td>18.53</td>\n",
       "      <td>1.120</td>\n",
       "    </tr>\n",
       "    <tr>\n",
       "      <th>2</th>\n",
       "      <td>2</td>\n",
       "      <td>f1_fuel_1994_12_2_0_1</td>\n",
       "      <td>2</td>\n",
       "      <td>1994</td>\n",
       "      <td>gorgas</td>\n",
       "      <td>coal</td>\n",
       "      <td>ton</td>\n",
       "      <td>2978683.0</td>\n",
       "      <td>24.130</td>\n",
       "      <td>39.72</td>\n",
       "      <td>38.12</td>\n",
       "      <td>1.650</td>\n",
       "    </tr>\n",
       "    <tr>\n",
       "      <th>3</th>\n",
       "      <td>3</td>\n",
       "      <td>f1_fuel_1994_12_2_0_7</td>\n",
       "      <td>2</td>\n",
       "      <td>1994</td>\n",
       "      <td>barry</td>\n",
       "      <td>coal</td>\n",
       "      <td>ton</td>\n",
       "      <td>3739484.0</td>\n",
       "      <td>23.950</td>\n",
       "      <td>47.21</td>\n",
       "      <td>45.99</td>\n",
       "      <td>1.970</td>\n",
       "    </tr>\n",
       "    <tr>\n",
       "      <th>4</th>\n",
       "      <td>4</td>\n",
       "      <td>f1_fuel_1994_12_2_0_10</td>\n",
       "      <td>2</td>\n",
       "      <td>1994</td>\n",
       "      <td>chickasaw</td>\n",
       "      <td>gas</td>\n",
       "      <td>mcf</td>\n",
       "      <td>40533.0</td>\n",
       "      <td>1.000</td>\n",
       "      <td>2.77</td>\n",
       "      <td>2.77</td>\n",
       "      <td>2.570</td>\n",
       "    </tr>\n",
       "  </tbody>\n",
       "</table>\n",
       "</div>"
      ],
      "text/plain": [
       "   Unnamed: 0               record_id  utility_id_ferc1  report_year  \\\n",
       "0           0   f1_fuel_1994_12_1_0_7                 1         1994   \n",
       "1           1  f1_fuel_1994_12_1_0_10                 1         1994   \n",
       "2           2   f1_fuel_1994_12_2_0_1                 2         1994   \n",
       "3           3   f1_fuel_1994_12_2_0_7                 2         1994   \n",
       "4           4  f1_fuel_1994_12_2_0_10                 2         1994   \n",
       "\n",
       "       plant_name_ferc1 fuel_type_code_pudl fuel_unit  fuel_qty_burned  \\\n",
       "0              rockport                coal       ton        5377489.0   \n",
       "1  rockport total plant                coal       ton       10486945.0   \n",
       "2                gorgas                coal       ton        2978683.0   \n",
       "3                 barry                coal       ton        3739484.0   \n",
       "4             chickasaw                 gas       mcf          40533.0   \n",
       "\n",
       "   fuel_mmbtu_per_unit  fuel_cost_per_unit_burned  \\\n",
       "0               16.590                      18.59   \n",
       "1               16.592                      18.58   \n",
       "2               24.130                      39.72   \n",
       "3               23.950                      47.21   \n",
       "4                1.000                       2.77   \n",
       "\n",
       "   fuel_cost_per_unit_delivered  fuel_cost_per_mmbtu  \n",
       "0                         18.53                1.121  \n",
       "1                         18.53                1.120  \n",
       "2                         38.12                1.650  \n",
       "3                         45.99                1.970  \n",
       "4                          2.77                2.570  "
      ]
     },
     "execution_count": 16,
     "metadata": {},
     "output_type": "execute_result"
    }
   ],
   "source": [
    "df.head()"
   ]
  },
  {
   "cell_type": "markdown",
   "id": "2583ebcf",
   "metadata": {},
   "source": [
    "#### For the fuel type coal, what is the percentage change in the fuel cost per unit burned in 1998 compared to 1994\n",
    "- percentage change == difference coming after subtracting the old value from the new value and then divide by the old value and the final answer will be multiplied by 100"
   ]
  },
  {
   "cell_type": "code",
   "execution_count": 17,
   "id": "ethical-criterion",
   "metadata": {},
   "outputs": [],
   "source": [
    "coal_1998 = df[(df['fuel_type_code_pudl'] == 'coal') |(df['report_year'] == 1998)].sum()['fuel_cost_per_unit_burned']"
   ]
  },
  {
   "cell_type": "code",
   "execution_count": 18,
   "id": "advanced-checklist",
   "metadata": {},
   "outputs": [],
   "source": [
    "coal_1994 = df[(df['fuel_type_code_pudl'] == 'coal') |(df['report_year'] == 1994)].sum()['fuel_cost_per_unit_burned']"
   ]
  },
  {
   "cell_type": "code",
   "execution_count": 32,
   "id": "eastern-clock",
   "metadata": {},
   "outputs": [
    {
     "data": {
      "text/plain": [
       "-14.568236687698914"
      ]
     },
     "execution_count": 32,
     "metadata": {},
     "output_type": "execute_result"
    }
   ],
   "source": [
    "difference =   coal_1998 - coal_1994\n",
    "diff = difference / coal_1994\n",
    "diff * 100"
   ]
  },
  {
   "cell_type": "markdown",
   "id": "25472049",
   "metadata": {},
   "source": [
    "- The percentage change in the fuel cost per unit burned of coal in 1998 compared to 1994 is\n",
    "- 14.568236687698914\n",
    "- This show a decree in the fuel cost per unit burned"
   ]
  },
  {
   "cell_type": "markdown",
   "id": "fc5bc2d6",
   "metadata": {},
   "source": []
  }
 ],
 "metadata": {
  "kernelspec": {
   "display_name": "Python 3 (ipykernel)",
   "language": "python",
   "name": "python3"
  },
  "language_info": {
   "codemirror_mode": {
    "name": "ipython",
    "version": 3
   },
   "file_extension": ".py",
   "mimetype": "text/x-python",
   "name": "python",
   "nbconvert_exporter": "python",
   "pygments_lexer": "ipython3",
   "version": "3.8.10"
  }
 },
 "nbformat": 4,
 "nbformat_minor": 5
}
